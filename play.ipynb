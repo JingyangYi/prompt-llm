{
 "cells": [
  {
   "cell_type": "code",
   "id": "initial_id",
   "metadata": {
    "collapsed": true,
    "ExecuteTime": {
     "end_time": "2024-10-16T05:29:15.356440Z",
     "start_time": "2024-10-16T05:29:14.830308Z"
    }
   },
   "source": [
    "import json\n",
    "import matplotlib.pyplot as plt\n",
    "import nltk\n",
    "from tqdm import tqdm\n",
    "nltk.download('punkt')\n",
    "nltk.download('punkt_tab')"
   ],
   "outputs": [
    {
     "name": "stderr",
     "output_type": "stream",
     "text": [
      "[nltk_data] Downloading package punkt to /home/yijingyang/nltk_data...\n",
      "[nltk_data]   Package punkt is already up-to-date!\n",
      "[nltk_data] Downloading package punkt_tab to\n",
      "[nltk_data]     /home/yijingyang/nltk_data...\n",
      "[nltk_data]   Package punkt_tab is already up-to-date!\n"
     ]
    },
    {
     "data": {
      "text/plain": [
       "True"
      ]
     },
     "execution_count": 2,
     "metadata": {},
     "output_type": "execute_result"
    }
   ],
   "execution_count": 2
  },
  {
   "metadata": {
    "ExecuteTime": {
     "end_time": "2024-10-16T05:50:16.383526Z",
     "start_time": "2024-10-16T05:49:41.959954Z"
    }
   },
   "cell_type": "code",
   "source": [
    "with open(\"Baby_Products.jsonl\", \"r\") as f:\n",
    "    dataset = [json.loads(line) for line in f]\n",
    "\n",
    "with open(\"meta_Baby_Products.jsonl\", \"r\") as f:\n",
    "    meta = [json.loads(line) for line in f]"
   ],
   "id": "bab3d7c4f1a87cf3",
   "outputs": [],
   "execution_count": 24
  },
  {
   "metadata": {
    "ExecuteTime": {
     "end_time": "2024-10-16T05:50:17.859417Z",
     "start_time": "2024-10-16T05:50:16.384474Z"
    }
   },
   "cell_type": "code",
   "source": [
    "def user_count(dataset):\n",
    "    user_counts = {}\n",
    "    for r in dataset:\n",
    "        id = r[\"user_id\"]\n",
    "        if id not in user_counts:\n",
    "            user_counts[id] = 1\n",
    "        else:\n",
    "            user_counts[id] += 1\n",
    "    return user_counts\n",
    "\n",
    "user_counts = user_count(dataset)"
   ],
   "id": "6a3fd0f41cfa5430",
   "outputs": [],
   "execution_count": 25
  },
  {
   "metadata": {},
   "cell_type": "markdown",
   "source": "**Keep users that have the number of reviews between 5-10**",
   "id": "de0a7f80d0be1db1"
  },
  {
   "metadata": {
    "ExecuteTime": {
     "end_time": "2024-10-16T05:50:18.981133Z",
     "start_time": "2024-10-16T05:50:17.860209Z"
    }
   },
   "cell_type": "code",
   "source": [
    "def keep_users_larger_between_5_10(dataset, user_counts):\n",
    "    data = []\n",
    "    for r in dataset:\n",
    "        if user_counts[r[\"user_id\"]] > 5 and user_counts[r[\"user_id\"]] < 10:\n",
    "            data.append(r)\n",
    "    return data\n",
    "\n",
    "data = keep_users_larger_between_5_10(dataset, user_counts)\n",
    "print(\"total reviews:\", len(data), \"unique users:\", len(user_count(data)))"
   ],
   "id": "d98d63b2ec57ff4b",
   "outputs": [
    {
     "name": "stdout",
     "output_type": "stream",
     "text": [
      "total reviews: 614255 unique users: 87464\n"
     ]
    }
   ],
   "execution_count": 26
  },
  {
   "metadata": {},
   "cell_type": "markdown",
   "source": "**Keep reviews that have at least 2 sentences.**",
   "id": "5a1f0631ad1be9ac"
  },
  {
   "metadata": {
    "ExecuteTime": {
     "end_time": "2024-10-16T05:50:32.542873Z",
     "start_time": "2024-10-16T05:50:18.982132Z"
    }
   },
   "cell_type": "code",
   "source": [
    "def keep_reviews_at_least_3_sentences(dataset):\n",
    "    data = []\n",
    "    for r in dataset:\n",
    "        n_sent = len(nltk.sent_tokenize(r[\"text\"]))\n",
    "        if n_sent >= 3:\n",
    "            data.append(r)\n",
    "    return data\n",
    "data = keep_reviews_at_least_3_sentences(data)\n",
    "print(\"total reviews:\", len(data), \"unique users:\", len(user_count(data)))"
   ],
   "id": "fc046a0cb73413d0",
   "outputs": [
    {
     "name": "stdout",
     "output_type": "stream",
     "text": [
      "total reviews: 319430 unique users: 75493\n"
     ]
    }
   ],
   "execution_count": 27
  },
  {
   "metadata": {},
   "cell_type": "markdown",
   "source": [
    "- organize the dataset by users : {user_id: , reviews: [review1, review2, ...],}\n",
    "- order reviews each user by timestamp"
   ],
   "id": "f23a7020a556eea7"
  },
  {
   "metadata": {
    "ExecuteTime": {
     "end_time": "2024-10-16T05:50:32.933625Z",
     "start_time": "2024-10-16T05:50:32.543623Z"
    }
   },
   "cell_type": "code",
   "source": [
    "def asin_product_pairs(metadata):\n",
    "    meta = {}\n",
    "    for p in metadata:\n",
    "        asin = p[\"parent_asin\"]\n",
    "        meta[asin] = p[\"title\"]\n",
    "    return meta\n",
    "\n",
    "meta = asin_product_pairs(meta)"
   ],
   "id": "5bfcf69fe7119e6c",
   "outputs": [],
   "execution_count": 28
  },
  {
   "metadata": {
    "ExecuteTime": {
     "end_time": "2024-10-16T05:50:33.281608Z",
     "start_time": "2024-10-16T05:50:32.945566Z"
    }
   },
   "cell_type": "code",
   "source": [
    "def gen_user_review_item_data(dataset, metadata):\n",
    "    data = []\n",
    "    user_id_table = {}\n",
    "    user_idx = 0\n",
    "    for r in tqdm(dataset):\n",
    "        title = r[\"title\"]\n",
    "        rating = r[\"rating\"]\n",
    "        review = r[\"text\"]\n",
    "        user_id = r[\"user_id\"]\n",
    "        parent_asin = r[\"parent_asin\"]\n",
    "        product_name = metadata[parent_asin]\n",
    "        timestamp = r[\"timestamp\"]\n",
    "        \n",
    "        review_info = {\"product\": product_name, \"rating\": rating, \n",
    "                       \"title\": title, \"review\": review}\n",
    "        if user_id not in user_id_table:\n",
    "            line = {\"user_id\": user_id, \"reviews\": {timestamp: review_info}}\n",
    "            data.append(line)\n",
    "            user_id_table[user_id] = user_idx\n",
    "            user_idx += 1\n",
    "        else:\n",
    "            idx = user_id_table[user_id]\n",
    "            data[idx][\"reviews\"][timestamp] = review_info\n",
    "    return data\n",
    "reviews = gen_user_review_item_data(data, meta)"
   ],
   "id": "7288906fa46c2966",
   "outputs": [
    {
     "name": "stderr",
     "output_type": "stream",
     "text": [
      "100%|██████████| 319430/319430 [00:00<00:00, 969663.88it/s]\n"
     ]
    }
   ],
   "execution_count": 29
  },
  {
   "metadata": {
    "ExecuteTime": {
     "end_time": "2024-10-16T05:51:09.909044Z",
     "start_time": "2024-10-16T05:51:09.904982Z"
    }
   },
   "cell_type": "code",
   "source": "reviews[55]",
   "id": "a0cf1c2bbbcbd091",
   "outputs": [
    {
     "data": {
      "text/plain": [
       "{'user_id': 'AF2NJDADH6SYHXVZEIUBNH3KC4DA',\n",
       " 'reviews': {1662506618860: {'product': 'Graco TurboBooster Backless Booster Car Seat, Dinorama',\n",
       "   'rating': 4.0,\n",
       "   'title': 'Cute and Comfy',\n",
       "   'review': 'I like the look and feel of this. My grandson loves it too. It comes with cup holders on each side that can be pushed in. The arm rest cover on the left keeps coming off though very easily. For traveling, I think it would be too bulky though.'},\n",
       "  1597897208144: {'product': 'Baby Wipes, Pampers Aqua Pure Sensitive Water Baby Diaper Wipes, Hypoallergenic and Unscented, 56 Count (Pack of 12)',\n",
       "   'rating': 4.0,\n",
       "   'title': 'Valuable and Sensitive',\n",
       "   'review': 'These were a gift for my grandson. He has sensitive skin and he could use these. Great value also.'},\n",
       "  1597538493761: {'product': 'Smart Design Kids Pop Up Organizer with Animal Print - VentilAir Mesh Netting - for Toddlers, Baby Clothes, Plushies, and Toys - Home Organization - Cube - 10.5 x 11 Inch - Orange Tiger',\n",
       "   'rating': 2.0,\n",
       "   'title': 'Tiny Toy Bin',\n",
       "   'review': 'I like how cute it is. Dislike the size. You can not fit much in it. Much smaller than an average sized toy bin or hamper.'},\n",
       "  1572361462186: {'product': 'Baby Trend Deluxe Nursery Center, Haven Wood',\n",
       "   'rating': 4.0,\n",
       "   'title': 'Affordable and practical',\n",
       "   'review': 'We bought this for the grandbaby. He just started using it at 9 months. He loves it and can be free inside and still see. He loves to bounce in it. He can pull himself up and it still hold his weight. He falls back in it and loves the light and music box area. Great buy.'},\n",
       "  1572360997345: {'product': 'Sprout Organic Baby Food, Stage 4 Toddler Veggie Snacks, Pumpkin Carrot Crinklez, 1.5 Oz Bag (1 Count)',\n",
       "   'rating': 2.0,\n",
       "   'title': 'Not for my grandson',\n",
       "   'review': \"Bought these for my grandson who didn't like them. He ate these and then had diarrhea. His mom opted to not give him anymore of it due to having a blowout.\"}}}"
      ]
     },
     "execution_count": 32,
     "metadata": {},
     "output_type": "execute_result"
    }
   ],
   "execution_count": 32
  },
  {
   "metadata": {
    "ExecuteTime": {
     "end_time": "2024-10-16T04:18:11.971154Z",
     "start_time": "2024-10-16T04:18:11.965804Z"
    }
   },
   "cell_type": "code",
   "source": "data[:20]",
   "id": "f1c6e5753fecdcc9",
   "outputs": [
    {
     "data": {
      "text/plain": [
       "[{'rating': 5.0,\n",
       "  'title': 'Perfect for my car seat stroller.',\n",
       "  'text': 'I got a carseat stroller since I use lyft/Uber a lot and travel for work with my baby. Even though the car seat stroller is amazing it lacks the extra space compartments. And I suffer from back pain. So wearing a diaper backpack eventually weighs down on you.<br />This bag hooks up and fits perfectly in the back of the car seat stroller.<br /><br />The weight capacity is about 6.6lbs.<br />So it’s perfect for the minimalist moms, that pack the essentials, like diapers, snacks, maybe a change of clothes.<br /><br />Just remember to unhook it before collapsing the stroller into a car seat. It can get stuck and hard to get it back to the stroller position.',\n",
       "  'images': [{'small_image_url': 'https://images-na.ssl-images-amazon.com/images/I/71IAuqQmjEL._SL256_.jpg',\n",
       "    'medium_image_url': 'https://images-na.ssl-images-amazon.com/images/I/71IAuqQmjEL._SL800_.jpg',\n",
       "    'large_image_url': 'https://images-na.ssl-images-amazon.com/images/I/71IAuqQmjEL._SL1600_.jpg',\n",
       "    'attachment_type': 'IMAGE'},\n",
       "   {'small_image_url': 'https://images-na.ssl-images-amazon.com/images/I/81Ri1VcqxFL._SL256_.jpg',\n",
       "    'medium_image_url': 'https://images-na.ssl-images-amazon.com/images/I/81Ri1VcqxFL._SL800_.jpg',\n",
       "    'large_image_url': 'https://images-na.ssl-images-amazon.com/images/I/81Ri1VcqxFL._SL1600_.jpg',\n",
       "    'attachment_type': 'IMAGE'}],\n",
       "  'asin': 'B08C2GL1G5',\n",
       "  'parent_asin': 'B08C2GL1G5',\n",
       "  'user_id': 'AG3XU5GJ7ATYTRQ3664DTIOF2BRA',\n",
       "  'timestamp': 1607624418242,\n",
       "  'helpful_vote': 1,\n",
       "  'verified_purchase': True},\n",
       " {'rating': 5.0,\n",
       "  'title': 'Great for the travel mom',\n",
       "  'text': 'I travel for work and needed it to pump at work.  By the way this was not my first option the one I wanted was a rose gold one on this site but it was delayed so I canceled it and ordered this one. It came in the next day. Faster than expected. It’s portable and easy to use and charge.  I love it!',\n",
       "  'images': [],\n",
       "  'asin': 'B07FSDSH7S',\n",
       "  'parent_asin': 'B07FSDSH7S',\n",
       "  'user_id': 'AG3XU5GJ7ATYTRQ3664DTIOF2BRA',\n",
       "  'timestamp': 1555656034151,\n",
       "  'helpful_vote': 0,\n",
       "  'verified_purchase': True},\n",
       " {'rating': 5.0,\n",
       "  'title': 'Mother and baby approved',\n",
       "  'text': 'I swear by this one. The regular bottles, the milk just flows out and gets all over my lil one’s clothes. With this they’re almost no leaks. I love it. I got one as a gift and at first felt it was too complicated but after giving it a go. I don’t even bother with the regular bottles. Sometimes I even mix the formula and feed it to my lil one on this.  The one I got came with the attachments for the pump and it’s saved me a lot of time from transferring from bottle to bag by pumping straight into the bags.',\n",
       "  'images': [],\n",
       "  'asin': 'B00CXRUJYU',\n",
       "  'parent_asin': 'B00CXRUJYU',\n",
       "  'user_id': 'AG3XU5GJ7ATYTRQ3664DTIOF2BRA',\n",
       "  'timestamp': 1549517086063,\n",
       "  'helpful_vote': 0,\n",
       "  'verified_purchase': True},\n",
       " {'rating': 5.0,\n",
       "  'title': 'You don’t need a crib.',\n",
       "  'text': 'I couldn’t afford a crib or a fancy expensive Moses basket so I bought this. My newborn has been using since I brought her from the hospital. It’s portable and I can transport her easily and safely to other rooms.  She’s already 3 months and I’m thinking about getting a pack n play instead of crib until she’s ready to use her bed.',\n",
       "  'images': [{'small_image_url': 'https://images-na.ssl-images-amazon.com/images/I/61GBiY3A-yL._SL256_.jpg',\n",
       "    'medium_image_url': 'https://images-na.ssl-images-amazon.com/images/I/61GBiY3A-yL._SL800_.jpg',\n",
       "    'large_image_url': 'https://images-na.ssl-images-amazon.com/images/I/61GBiY3A-yL._SL1600_.jpg',\n",
       "    'attachment_type': 'IMAGE'}],\n",
       "  'asin': 'B001FA0CQ6',\n",
       "  'parent_asin': 'B001FA0CQ6',\n",
       "  'user_id': 'AG3XU5GJ7ATYTRQ3664DTIOF2BRA',\n",
       "  'timestamp': 1549408718936,\n",
       "  'helpful_vote': 0,\n",
       "  'verified_purchase': True},\n",
       " {'rating': 3.0,\n",
       "  'title': 'It’s okay.',\n",
       "  'text': 'My baby doesn’t like it. It’s just not for her. She keeps spitting it out. I’ll keep trying though. And maybe regift the extra unused one. Idk',\n",
       "  'images': [],\n",
       "  'asin': 'B07CYTPLSY',\n",
       "  'parent_asin': 'B09W7KBM2H',\n",
       "  'user_id': 'AG3XU5GJ7ATYTRQ3664DTIOF2BRA',\n",
       "  'timestamp': 1546481219063,\n",
       "  'helpful_vote': 0,\n",
       "  'verified_purchase': True},\n",
       " {'rating': 4.0,\n",
       "  'title': 'Perfect for my BF baby.',\n",
       "  'text': 'The regular bottles would leak while feeding my lil one. So messy and annoying. I read the reviews and decided to buy it. My baby is breastfed and this is perfect for her. Very innovative design and easy to use and clean.',\n",
       "  'images': [],\n",
       "  'asin': 'B07CKNNTL1',\n",
       "  'parent_asin': 'B07CKNNTL1',\n",
       "  'user_id': 'AG3XU5GJ7ATYTRQ3664DTIOF2BRA',\n",
       "  'timestamp': 1546480983988,\n",
       "  'helpful_vote': 1,\n",
       "  'verified_purchase': True},\n",
       " {'rating': 5.0,\n",
       "  'title': 'Excellent Baby Lotion.',\n",
       "  'text': 'The baby was having rashes from his other lotion before we received this one.  The rashes are gone and his skin is better than ever. I like this a lot.',\n",
       "  'images': [],\n",
       "  'asin': 'B07DGKXBDD',\n",
       "  'parent_asin': 'B0BW8LFC6V',\n",
       "  'user_id': 'AG7JSIKUQPSL5AAPRDRKDNWM4U2A',\n",
       "  'timestamp': 1537731850011,\n",
       "  'helpful_vote': 0,\n",
       "  'verified_purchase': False},\n",
       " {'rating': 5.0,\n",
       "  'title': 'Is A Great Boon for Growing Child',\n",
       "  'text': 'My son is already 7 and just needed a booster seat but this seat goes from toddler up. The seat is very comfortable and he doesn’t feel like a baby anymore. Loves it.',\n",
       "  'images': [],\n",
       "  'asin': 'B07B7QWTGF',\n",
       "  'parent_asin': 'B07B7QWTGF',\n",
       "  'user_id': 'AG7JSIKUQPSL5AAPRDRKDNWM4U2A',\n",
       "  'timestamp': 1532226905035,\n",
       "  'helpful_vote': 1,\n",
       "  'verified_purchase': False},\n",
       " {'rating': 5.0,\n",
       "  'title': 'Vehicle Mirror and Fan for Baby',\n",
       "  'text': \"A bit big but I like the fan fixture.  Cools baby off and allows baby to be seen by mommy, daddy and other caretakers in the car.  Very important in a time when babies are being forgotten in cars and being overheated.  Can't be too safe and the baby can be comfortable.  Refreshing.\",\n",
       "  'images': [],\n",
       "  'asin': 'B07B94419M',\n",
       "  'parent_asin': 'B07B94419M',\n",
       "  'user_id': 'AG7JSIKUQPSL5AAPRDRKDNWM4U2A',\n",
       "  'timestamp': 1529500971718,\n",
       "  'helpful_vote': 2,\n",
       "  'verified_purchase': False},\n",
       " {'rating': 5.0,\n",
       "  'title': 'Lovely Baby Blanket',\n",
       "  'text': 'A lovely baby and toddler blanket. Soft, comfortable, it can be used to swaddle a newborn or cover a toddler. Made from 100% cotton and open weave cellular style.',\n",
       "  'images': [],\n",
       "  'asin': 'B074QXCRKQ',\n",
       "  'parent_asin': 'B074QX8X94',\n",
       "  'user_id': 'AG7JSIKUQPSL5AAPRDRKDNWM4U2A',\n",
       "  'timestamp': 1525049817525,\n",
       "  'helpful_vote': 0,\n",
       "  'verified_purchase': False},\n",
       " {'rating': 2.0,\n",
       "  'title': 'Disappointed',\n",
       "  'text': \"It's much smaller than it looks. Pretty disappointed bc I cant sleep and I'm in so much pain!!\",\n",
       "  'images': [],\n",
       "  'asin': 'B07N6PS35Q',\n",
       "  'parent_asin': 'B0C4QXQWS9',\n",
       "  'user_id': 'AEZV3WDCDM6V4CJMN222D52REYYA',\n",
       "  'timestamp': 1593017397975,\n",
       "  'helpful_vote': 0,\n",
       "  'verified_purchase': True},\n",
       " {'rating': 5.0,\n",
       "  'title': 'Recommended for littles that like to take diapers off!',\n",
       "  'text': \"My little liked to take her diaper off and with the straps (pampers) it was extremely easy for her (she wasn't even 1 yet and she runs hot so usually just keep her in a diaper) anyways...these diapers are amazing! I haven't had any issues and they've stayed put. Only issue I have is they fit pretty snug. (Maybe my little just has a big butt 🤷\\u200d♀️) I'd suggest a size up for chunky babies.\",\n",
       "  'images': [],\n",
       "  'asin': 'B00HJKPDCY',\n",
       "  'parent_asin': 'B0CGM6X71Z',\n",
       "  'user_id': 'AF76P2AWQWB7ZDCNGZO2GV7JIK4Q',\n",
       "  'timestamp': 1614950900434,\n",
       "  'helpful_vote': 0,\n",
       "  'verified_purchase': True},\n",
       " {'rating': 2.0,\n",
       "  'title': \"I DON'T RECOMMEND, STICK WITH HUGGIES!\",\n",
       "  'text': 'Well...I have to say. I hate them. Only because the velcro straps come off easy. They need to have pants on or something for them to stay put. But even then they can come off and the diapers fall off into their jammies or pant legs.',\n",
       "  'images': [],\n",
       "  'asin': 'B07SWMRDLS',\n",
       "  'parent_asin': 'B0BQV3785S',\n",
       "  'user_id': 'AF76P2AWQWB7ZDCNGZO2GV7JIK4Q',\n",
       "  'timestamp': 1613751938269,\n",
       "  'helpful_vote': 0,\n",
       "  'verified_purchase': True},\n",
       " {'rating': 2.0,\n",
       "  'title': 'Nope',\n",
       "  'text': 'My daughter hated it. And smells and tastes like tuna. Blah.',\n",
       "  'images': [],\n",
       "  'asin': 'B0028UH8VY',\n",
       "  'parent_asin': 'B0028UH8VY',\n",
       "  'user_id': 'AF76P2AWQWB7ZDCNGZO2GV7JIK4Q',\n",
       "  'timestamp': 1613751625863,\n",
       "  'helpful_vote': 0,\n",
       "  'verified_purchase': True},\n",
       " {'rating': 2.0,\n",
       "  'title': 'Get huggies instead. Way better velcro and just as absorbent.',\n",
       "  'text': 'Well...I have to say. I hate them. Only because the velcro straps come off super easily and SEVERAL times a day! They need to have pants on or something for the velcro straps to stay put. But even then they can come off and the diapers fall off into their jammies or pant legs. Not impressed and like huggies better. Only bought these because they were on sale. BIG MISTAKE!!',\n",
       "  'images': [],\n",
       "  'asin': 'B00DDMIODM',\n",
       "  'parent_asin': 'B00DDMIODM',\n",
       "  'user_id': 'AF76P2AWQWB7ZDCNGZO2GV7JIK4Q',\n",
       "  'timestamp': 1613751510574,\n",
       "  'helpful_vote': 0,\n",
       "  'verified_purchase': True},\n",
       " {'rating': 5.0,\n",
       "  'title': 'Nice!',\n",
       "  'text': 'I love this gate<br /> So easy to put as a play area and open up. Good for on the go and also home. Great for puppies and kids.',\n",
       "  'images': [],\n",
       "  'asin': 'B072LTSWND',\n",
       "  'parent_asin': 'B09NKBDYQS',\n",
       "  'user_id': 'AF76P2AWQWB7ZDCNGZO2GV7JIK4Q',\n",
       "  'timestamp': 1593997087822,\n",
       "  'helpful_vote': 0,\n",
       "  'verified_purchase': True},\n",
       " {'rating': 5.0,\n",
       "  'title': 'For travel only',\n",
       "  'text': 'My wife bought for the crib, but I don’t believe she realized the size as it is for travel and too small for the crib. Still good quality. Soft, plump, and came with a nice pillow case',\n",
       "  'images': [],\n",
       "  'asin': 'B09D7J3DTS',\n",
       "  'parent_asin': 'B0BWY3ZW8Y',\n",
       "  'user_id': 'AFX5GCBHJZRWAIDMOJQPLQYQIT4A',\n",
       "  'timestamp': 1673486791096,\n",
       "  'helpful_vote': 1,\n",
       "  'verified_purchase': True},\n",
       " {'rating': 5.0,\n",
       "  'title': 'Needed for heavy sleepers',\n",
       "  'text': 'This is a cure all for heavy sleepers. Sleeping thru the bight is awesome, but soaking thru the diaper and then sleep ought and sheets is not awesome. This is a great added layer of absorption that truly helps.',\n",
       "  'images': [],\n",
       "  'asin': 'B00839749A',\n",
       "  'parent_asin': 'B0C6MZ7GVW',\n",
       "  'user_id': 'AFX5GCBHJZRWAIDMOJQPLQYQIT4A',\n",
       "  'timestamp': 1626932287139,\n",
       "  'helpful_vote': 0,\n",
       "  'verified_purchase': True},\n",
       " {'rating': 5.0,\n",
       "  'title': 'Awesome',\n",
       "  'text': 'This thing is a must for any baby. My infant loves it and keeps him cool. Attaches without issue and keeps a decent charge',\n",
       "  'images': [],\n",
       "  'asin': 'B08YRFNPXR',\n",
       "  'parent_asin': 'B09HKRTZXB',\n",
       "  'user_id': 'AFX5GCBHJZRWAIDMOJQPLQYQIT4A',\n",
       "  'timestamp': 1626931700107,\n",
       "  'helpful_vote': 0,\n",
       "  'verified_purchase': True},\n",
       " {'rating': 5.0,\n",
       "  'title': 'Looking for a nightlight, you just found it!!',\n",
       "  'text': 'This is truly an awesome night light. Brightness levels, color options, and a remote to boot. I found that this company offers many different styles and sizes. I believe I got the larger one and it’s still a great buy. I’ll be getting another one later for my son. Thoroughly impressed with this!!',\n",
       "  'images': [],\n",
       "  'asin': 'B08Q36Y447',\n",
       "  'parent_asin': 'B0B6PBTC76',\n",
       "  'user_id': 'AFX5GCBHJZRWAIDMOJQPLQYQIT4A',\n",
       "  'timestamp': 1617084117976,\n",
       "  'helpful_vote': 0,\n",
       "  'verified_purchase': True}]"
      ]
     },
     "execution_count": 44,
     "metadata": {},
     "output_type": "execute_result"
    }
   ],
   "execution_count": 44
  },
  {
   "metadata": {},
   "cell_type": "code",
   "outputs": [],
   "execution_count": null,
   "source": "",
   "id": "7639311218b08539"
  }
 ],
 "metadata": {
  "kernelspec": {
   "display_name": "Python 3",
   "language": "python",
   "name": "python3"
  },
  "language_info": {
   "codemirror_mode": {
    "name": "ipython",
    "version": 2
   },
   "file_extension": ".py",
   "mimetype": "text/x-python",
   "name": "python",
   "nbconvert_exporter": "python",
   "pygments_lexer": "ipython2",
   "version": "2.7.6"
  }
 },
 "nbformat": 4,
 "nbformat_minor": 5
}
