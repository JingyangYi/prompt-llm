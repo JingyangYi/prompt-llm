{
 "cells": [
  {
   "cell_type": "code",
   "id": "initial_id",
   "metadata": {
    "collapsed": true,
    "ExecuteTime": {
     "end_time": "2024-10-16T15:23:04.729869Z",
     "start_time": "2024-10-16T15:23:04.264246Z"
    }
   },
   "source": [
    "import json\n",
    "import matplotlib.pyplot as plt\n",
    "import nltk\n",
    "from tqdm import tqdm\n",
    "nltk.download('punkt')\n",
    "nltk.download('punkt_tab')"
   ],
   "outputs": [
    {
     "name": "stderr",
     "output_type": "stream",
     "text": [
      "[nltk_data] Downloading package punkt to /home/yijingyang/nltk_data...\n",
      "[nltk_data]   Package punkt is already up-to-date!\n",
      "[nltk_data] Downloading package punkt_tab to\n",
      "[nltk_data]     /home/yijingyang/nltk_data...\n",
      "[nltk_data]   Package punkt_tab is already up-to-date!\n"
     ]
    },
    {
     "data": {
      "text/plain": [
       "True"
      ]
     },
     "execution_count": 1,
     "metadata": {},
     "output_type": "execute_result"
    }
   ],
   "execution_count": 1
  },
  {
   "metadata": {
    "ExecuteTime": {
     "end_time": "2024-10-16T15:23:41.017545Z",
     "start_time": "2024-10-16T15:23:04.730701Z"
    }
   },
   "cell_type": "code",
   "source": [
    "with open(\"Baby_Products.jsonl\", \"r\") as f:\n",
    "    dataset = [json.loads(line) for line in f]\n",
    "\n",
    "with open(\"meta_Baby_Products.jsonl\", \"r\") as f:\n",
    "    meta = [json.loads(line) for line in f]"
   ],
   "id": "bab3d7c4f1a87cf3",
   "outputs": [],
   "execution_count": 2
  },
  {
   "metadata": {},
   "cell_type": "markdown",
   "source": "**Keep reviews that have at least 3 sentences.**",
   "id": "5a1f0631ad1be9ac"
  },
  {
   "metadata": {
    "ExecuteTime": {
     "end_time": "2024-10-16T15:26:33.461991Z",
     "start_time": "2024-10-16T15:24:31.177996Z"
    }
   },
   "cell_type": "code",
   "source": [
    "def keep_reviews_at_least_3_sentences(dataset):\n",
    "    data = []\n",
    "    for r in dataset:\n",
    "        n_sent = len(nltk.sent_tokenize(r[\"text\"]))\n",
    "        if n_sent >= 3:\n",
    "            data.append(r)\n",
    "    return data\n",
    "data = keep_reviews_at_least_3_sentences(dataset)\n",
    "print(\"total reviews:\", len(data))"
   ],
   "id": "fc046a0cb73413d0",
   "outputs": [
    {
     "name": "stdout",
     "output_type": "stream",
     "text": [
      "total reviews: 2846294\n"
     ]
    }
   ],
   "execution_count": 5
  },
  {
   "metadata": {
    "ExecuteTime": {
     "end_time": "2024-10-16T15:26:34.769040Z",
     "start_time": "2024-10-16T15:26:33.462944Z"
    }
   },
   "cell_type": "code",
   "source": [
    "def user_count(dataset):\n",
    "    user_counts = {}\n",
    "    for r in dataset:\n",
    "        id = r[\"user_id\"]\n",
    "        if id not in user_counts:\n",
    "            user_counts[id] = 1\n",
    "        else:\n",
    "            user_counts[id] += 1\n",
    "    return user_counts\n",
    "\n",
    "user_counts = user_count(dataset)"
   ],
   "id": "6a3fd0f41cfa5430",
   "outputs": [],
   "execution_count": 6
  },
  {
   "metadata": {},
   "cell_type": "markdown",
   "source": "**Keep users that have the number of reviews between 5-10**",
   "id": "de0a7f80d0be1db1"
  },
  {
   "metadata": {
    "ExecuteTime": {
     "end_time": "2024-10-16T15:26:35.884023Z",
     "start_time": "2024-10-16T15:26:34.769902Z"
    }
   },
   "cell_type": "code",
   "source": [
    "def keep_users_larger_between_5_10(dataset, user_counts):\n",
    "    data = []\n",
    "    for r in dataset:\n",
    "        if user_counts[r[\"user_id\"]] > 5 and user_counts[r[\"user_id\"]] < 10:\n",
    "            data.append(r)\n",
    "    return data\n",
    "\n",
    "data = keep_users_larger_between_5_10(dataset, user_counts)\n",
    "print(\"total reviews:\", len(data), \"unique users:\", len(user_count(data)))"
   ],
   "id": "d98d63b2ec57ff4b",
   "outputs": [
    {
     "name": "stdout",
     "output_type": "stream",
     "text": [
      "total reviews: 614255 unique users: 87464\n"
     ]
    }
   ],
   "execution_count": 7
  },
  {
   "metadata": {},
   "cell_type": "markdown",
   "source": [
    "- organize the dataset by users : {user_id: , reviews: [review1, review2, ...],}\n",
    "- order reviews each user by timestamp"
   ],
   "id": "f23a7020a556eea7"
  },
  {
   "metadata": {
    "ExecuteTime": {
     "end_time": "2024-10-16T15:26:36.204006Z",
     "start_time": "2024-10-16T15:26:35.885243Z"
    }
   },
   "cell_type": "code",
   "source": [
    "def asin_product_pairs(metadata):\n",
    "    meta = {}\n",
    "    for p in metadata:\n",
    "        asin = p[\"parent_asin\"]\n",
    "        meta[asin] = p[\"title\"]\n",
    "    return meta\n",
    "\n",
    "meta = asin_product_pairs(meta)"
   ],
   "id": "5bfcf69fe7119e6c",
   "outputs": [],
   "execution_count": 8
  },
  {
   "metadata": {
    "ExecuteTime": {
     "end_time": "2024-10-16T15:26:36.783572Z",
     "start_time": "2024-10-16T15:26:36.204703Z"
    }
   },
   "cell_type": "code",
   "source": [
    "def gen_user_review_item_data(dataset, metadata):\n",
    "    data = []\n",
    "    user_id_table = {}\n",
    "    user_idx = 0\n",
    "    for r in tqdm(dataset):\n",
    "        title = r[\"title\"]\n",
    "        rating = r[\"rating\"]\n",
    "        review = r[\"text\"]\n",
    "        user_id = r[\"user_id\"]\n",
    "        parent_asin = r[\"parent_asin\"]\n",
    "        product_name = metadata[parent_asin]\n",
    "        timestamp = r[\"timestamp\"]\n",
    "        \n",
    "        review_info = {\"product\": product_name, \"rating\": rating, \n",
    "                       \"title\": title, \"review\": review}\n",
    "        if user_id not in user_id_table:\n",
    "            line = {\"user_id\": user_id, \"reviews\": {timestamp: review_info}}\n",
    "            data.append(line)\n",
    "            user_id_table[user_id] = user_idx\n",
    "            user_idx += 1\n",
    "        else:\n",
    "            idx = user_id_table[user_id]\n",
    "            data[idx][\"reviews\"][timestamp] = review_info\n",
    "    return data\n",
    "reviews = gen_user_review_item_data(data, meta)"
   ],
   "id": "7288906fa46c2966",
   "outputs": [
    {
     "name": "stderr",
     "output_type": "stream",
     "text": [
      "100%|██████████| 614255/614255 [00:00<00:00, 1120272.88it/s]\n"
     ]
    }
   ],
   "execution_count": 9
  },
  {
   "metadata": {},
   "cell_type": "markdown",
   "source": "**Order the reviews by timestamps**",
   "id": "1b336b60640c8c95"
  },
  {
   "metadata": {
    "ExecuteTime": {
     "end_time": "2024-10-16T15:26:36.850427Z",
     "start_time": "2024-10-16T15:26:36.784343Z"
    }
   },
   "cell_type": "code",
   "source": [
    "def sort_reviews_by_timestamp(reviews):\n",
    "    for r in reviews:\n",
    "        r['reviews'] = [r['reviews'][time] for time in sorted(r['reviews'])]\n",
    "    return reviews\n",
    "\n",
    "reviews = sort_reviews_by_timestamp(reviews)        "
   ],
   "id": "7b82de53c26e215",
   "outputs": [],
   "execution_count": 10
  },
  {
   "metadata": {
    "ExecuteTime": {
     "end_time": "2024-10-16T15:26:36.853706Z",
     "start_time": "2024-10-16T15:26:36.850953Z"
    }
   },
   "cell_type": "code",
   "source": "reviews[5]",
   "id": "a0cf1c2bbbcbd091",
   "outputs": [
    {
     "data": {
      "text/plain": [
       "{'user_id': 'AFFFV4Y35FUSSYUMRHYV4P34X2MA',\n",
       " 'reviews': [{'product': 'Cozy Cover Infant Car Seat Cover (Pink) - The Industry Leading Infant Carrier Cover Trusted by Over 6 Million Moms Worldwide for Keeping Your Baby Cozy & Warm',\n",
       "   'rating': 5.0,\n",
       "   'title': 'Easy to use',\n",
       "   'review': 'Keeps my baby warm and out of the crap weather'},\n",
       "  {'product': 'Munchkin Fresh Food Feeder, 2 Count (Pack of 1), Blue/Mint',\n",
       "   'rating': 5.0,\n",
       "   'title': 'Love it',\n",
       "   'review': 'My son loves it can hold onto the feeder easily I can put whatever food into the mesh eater and he can safe chew! greet purchase!'},\n",
       "  {'product': 'Humble Crew Toy Storage Organizer, Grey/Blue/Green/Yellow',\n",
       "   'rating': 3.0,\n",
       "   'title': 'Damaged',\n",
       "   'review': 'I would give 5 stars if it wasn’t for wood having scratches all over'},\n",
       "  {'product': 'Child Proof Cabinet Locks Child Safety Drawer Locks,Baby Proofing Child Locks for Cabinets Latch Oven Stove Toilet Cupboard with 3M Adhesive,12 Pack',\n",
       "   'rating': 5.0,\n",
       "   'title': 'Keeps the kids out',\n",
       "   'review': 'Easy to install and easy to use<br />My son can pull with all his force and they do not budge'},\n",
       "  {'product': 'VTech DM112-2 Upgraded Audio Baby Monitor. 2 Parent Units with Rechargeable Battery, Best-in-Class Long Range, Digital Wireless Transmission, Crystal-Clear Sound, Plug & Play, Sound Indicator & Alerts',\n",
       "   'rating': 5.0,\n",
       "   'title': 'Sleeping little one',\n",
       "   'review': 'We are currently sleep training and are rooms are further apart to the point it’s difficult to distinguish if he’s crying or not great price for the monitor and easy to hear our little one'},\n",
       "  {'product': 'Glass Table Corner Protectors Baby Clear(12 Pack),Corner Guards Edge Bumpers,High Resistant Adhesive,Corner Protector for Furniture,Bed,Dressers,Cabinets,Entertainment Centers,Keep Baby and Kids Safe.',\n",
       "   'rating': 1.0,\n",
       "   'title': 'Fall off',\n",
       "   'review': 'They barely stuck on to the corners of the kitchen table for a few hours then all started to fall off'}]}"
      ]
     },
     "execution_count": 11,
     "metadata": {},
     "output_type": "execute_result"
    }
   ],
   "execution_count": 11
  },
  {
   "metadata": {
    "ExecuteTime": {
     "end_time": "2024-10-16T15:26:39.221914Z",
     "start_time": "2024-10-16T15:26:36.854354Z"
    }
   },
   "cell_type": "code",
   "source": [
    "filename = \"reviews.jsonl\"\n",
    "with open(filename, \"w\") as f:\n",
    "    for r in reviews:\n",
    "        json.dump(r, f)\n",
    "        f.write(\"\\n\")"
   ],
   "id": "3992dbfd540ed14b",
   "outputs": [],
   "execution_count": 12
  },
  {
   "metadata": {
    "ExecuteTime": {
     "end_time": "2024-10-16T15:26:40.022022Z",
     "start_time": "2024-10-16T15:26:39.222922Z"
    }
   },
   "cell_type": "code",
   "source": [
    "from datasets import load_dataset\n",
    "r = load_dataset(\"json\", data_files=\"reviews.jsonl\")"
   ],
   "id": "18ffee49da84c484",
   "outputs": [
    {
     "data": {
      "text/plain": [
       "Generating train split: 0 examples [00:00, ? examples/s]"
      ],
      "application/vnd.jupyter.widget-view+json": {
       "version_major": 2,
       "version_minor": 0,
       "model_id": "8328098cf1c04e8bba9923282cad4194"
      }
     },
     "metadata": {},
     "output_type": "display_data"
    }
   ],
   "execution_count": 13
  },
  {
   "metadata": {
    "ExecuteTime": {
     "end_time": "2024-10-16T15:26:40.029506Z",
     "start_time": "2024-10-16T15:26:40.023643Z"
    }
   },
   "cell_type": "code",
   "source": "r[\"train\"][0]",
   "id": "26e9fea4e965fc8a",
   "outputs": [
    {
     "data": {
      "text/plain": [
       "{'user_id': 'AGVVUU3QRQBHNASSGI5YQLPYOI2Q',\n",
       " 'reviews': [{'product': 'OXO Tot Sit Right Potty Seat, Green',\n",
       "   'rating': 4.0,\n",
       "   'title': 'takes up no room when storing',\n",
       "   'review': 'seems ok and fits on toilet seat ok'},\n",
       "  {'product': 'EZOWare 4 pc Cube Storage Basket Bins with Lid, Bamboo Fabric Linen Lidded Fabric Folding Boxes Cubes Containers - Beige, 9.8 x 9.8 x 9.8 inches',\n",
       "   'rating': 5.0,\n",
       "   'title': 'Very good looking',\n",
       "   'review': 'These storage cubes are great. They have a more expensive look than most others.'},\n",
       "  {'product': 'KidSwitch Light Switch Extender for Kids, Children, Toddlers - 3 Pack, Original Style - Award-Winning Child Safety Tool',\n",
       "   'rating': 5.0,\n",
       "   'title': 'Would reorder again and again as needed',\n",
       "   'review': 'Installed upside down to reach light switch hidden was washer in utility room. works great'},\n",
       "  {'product': 'Safety 1st Easy Install 28\" Walk Thru Gate, Fits Between 29\" and 38\"',\n",
       "   'rating': 5.0,\n",
       "   'title': 'Best gate ever',\n",
       "   'review': 'Sure wush I had this gate years ago!!!!!'},\n",
       "  {'product': 'LA JOLIE MUSE Cotton Rope Storage Basket Sets 2 Pack, Natural Rope Baskets with Handles, Storage Bin Organizer Safe for Baby and Kids Nursery, Off White with Blue & Brown Dotted Pattern',\n",
       "   'rating': 5.0,\n",
       "   'title': 'Beautiful',\n",
       "   'review': 'A beautiful basket, strong and plenty of room. Perfect for my starage needs and display.'},\n",
       "  {'product': 'LA JOLIE MUSE Large Cotton Rope Blanket Basket, Soft Woven Laundry Basket for Blankets Toys Yoga Mat, Soft Nursery Storage, 21\"(L) x 15\"(W) x 13\"(H), Oval, Off White with Blue & Brown Dotted Pattern',\n",
       "   'rating': 5.0,\n",
       "   'title': 'Beautiful',\n",
       "   'review': 'A beautiful basket, strong and plenty of room. Perfect for my starage needs and display.'}]}"
      ]
     },
     "execution_count": 14,
     "metadata": {},
     "output_type": "execute_result"
    }
   ],
   "execution_count": 14
  },
  {
   "metadata": {},
   "cell_type": "code",
   "outputs": [],
   "execution_count": null,
   "source": "",
   "id": "27fd316eee94e4a5"
  }
 ],
 "metadata": {
  "kernelspec": {
   "display_name": "Python 3",
   "language": "python",
   "name": "python3"
  },
  "language_info": {
   "codemirror_mode": {
    "name": "ipython",
    "version": 2
   },
   "file_extension": ".py",
   "mimetype": "text/x-python",
   "name": "python",
   "nbconvert_exporter": "python",
   "pygments_lexer": "ipython2",
   "version": "2.7.6"
  }
 },
 "nbformat": 4,
 "nbformat_minor": 5
}
